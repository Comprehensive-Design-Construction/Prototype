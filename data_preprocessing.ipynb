{
 "cells": [
  {
   "cell_type": "markdown",
   "metadata": {},
   "source": [
    "# 행정동 별 인구 데이터"
   ]
  },
  {
   "cell_type": "code",
   "execution_count": 2,
   "metadata": {},
   "outputs": [],
   "source": [
    "import pandas as pd\n",
    "\n",
    "lp = pd.read_csv(\"./datasets/LOCAL_PEOPLE_DONG_202501.csv\", index_col=False)\n",
    "code = pd.read_excel(\"./datasets/행정동코드_매핑정보_20241218.xlsx\", index_col=False)"
   ]
  },
  {
   "cell_type": "code",
   "execution_count": 3,
   "metadata": {},
   "outputs": [],
   "source": [
    "lp_ = (\n",
    "    lp.loc[(lp[\"기준일ID\"] == lp[\"기준일ID\"].max()) & (lp[\"시간대구분\"] == 0)]\n",
    "    .reset_index()\n",
    "    .iloc[:, 1:]\n",
    "    .copy()\n",
    ")\n",
    "code_ = code.loc[1:, [\"행자부행정동코드\", \"행정동명\"]]\n",
    "lp_[\"행정동코드\"] = lp_[\"행정동코드\"].astype(int)\n",
    "code_[\"행자부행정동코드\"] = code_[\"행자부행정동코드\"].astype(int)"
   ]
  },
  {
   "cell_type": "code",
   "execution_count": 4,
   "metadata": {},
   "outputs": [],
   "source": [
    "merged_df = pd.merge(\n",
    "    lp_, code_, left_on=\"행정동코드\", right_on=\"행자부행정동코드\", how=\"left\"\n",
    ")\n",
    "merged_df = merged_df.loc[:, [merged_df.columns[-1]] + merged_df.columns[3:-2].tolist()]"
   ]
  },
  {
   "cell_type": "markdown",
   "metadata": {},
   "source": [
    "# 학교 기본 정보"
   ]
  },
  {
   "cell_type": "code",
   "execution_count": null,
   "metadata": {},
   "outputs": [],
   "source": [
    "# school = pd.read_csv(\"./datasets/서울시 학교 기본정보.csv\", encoding=\"euc-kr\")\n",
    "# school_ = school[\n",
    "#     [\n",
    "#         \"학교종류명\",\n",
    "#         \"설립구분\",\n",
    "#         \"남녀공학구분명\",\n",
    "#         \"고등학교구분명\",\n",
    "#         \"산업체특별학급존재여부\",\n",
    "#         \"고등학교일반실업구분명\",\n",
    "#         \"특수목적고등학교계열명\",\n",
    "#         \"주야구분명\",\n",
    "#         \"주야과정\",\n",
    "#         \"계열명\",\n",
    "#         \"도로명주소\",\n",
    "#     ]\n",
    "# ]"
   ]
  },
  {
   "cell_type": "code",
   "execution_count": null,
   "metadata": {},
   "outputs": [],
   "source": [
    "# import requests\n",
    "\n",
    "# key = \"key\" # do not share\n",
    "\n",
    "# url = \"https://dapi.kakao.com/v2/local/search/address.json\"\n",
    "# headers = {\"Authorization\": f\"KakaoAK {key}\"}\n",
    "\n",
    "# regions = []\n",
    "\n",
    "# for idx, address in enumerate(school_[\"도로명주소\"]):\n",
    "#     params = {\"query\": address}\n",
    "#     response = requests.get(url, headers=headers, params=params)\n",
    "\n",
    "#     try:\n",
    "#         region = response.json()['documents'][0]['address']['region_3depth_h_name']\n",
    "#         regions.append(region)\n",
    "#     except:\n",
    "#         print(f\"Error at {idx}: {address}\")\n",
    "#         regions.append(None)"
   ]
  },
  {
   "cell_type": "code",
   "execution_count": null,
   "metadata": {},
   "outputs": [],
   "source": [
    "# school_.loc[:, \"행정동명\"] = regions\n",
    "# school_.to_csv(\"./datasets/서울시 학교 기본정보_address.csv\", encoding=\"euc-kr\", index=False)"
   ]
  },
  {
   "cell_type": "code",
   "execution_count": null,
   "metadata": {},
   "outputs": [],
   "source": [
    "school_ = pd.read_csv(\n",
    "    \"./dataset/서울시 학교 기본정보_address.csv\", encoding=\"euc-kr\", index_col=False\n",
    ")"
   ]
  },
  {
   "cell_type": "code",
   "execution_count": null,
   "metadata": {},
   "outputs": [],
   "source": [
    "school_clean = school_.dropna(subset=[\"행정동명\"])"
   ]
  },
  {
   "cell_type": "code",
   "execution_count": 26,
   "metadata": {},
   "outputs": [],
   "source": [
    "school_counts = (\n",
    "    school_clean.groupby(\"행정동명\")[\"학교종류명\"].value_counts().unstack(fill_value=0)\n",
    ")\n",
    "\n",
    "if set([\"초등학교\", \"중학교\", \"고등학교\"]).issubset(school_counts.columns):\n",
    "    school_counts = school_counts[[\"초등학교\", \"중학교\", \"고등학교\"]]\n",
    "\n",
    "school_counts.columns = [\"초등학교_수\", \"중학교_수\", \"고등학교_수\"]"
   ]
  },
  {
   "cell_type": "code",
   "execution_count": 31,
   "metadata": {},
   "outputs": [],
   "source": [
    "merged_df = pd.merge(\n",
    "    merged_df, school_counts, left_on=\"행정동명\", right_on=\"행정동명\", how=\"left\"\n",
    ")"
   ]
  },
  {
   "cell_type": "markdown",
   "metadata": {},
   "source": [
    "# 지하철/버스 역별 승하차 정보"
   ]
  },
  {
   "cell_type": "code",
   "execution_count": null,
   "metadata": {},
   "outputs": [],
   "source": []
  },
  {
   "cell_type": "code",
   "execution_count": null,
   "metadata": {},
   "outputs": [],
   "source": []
  },
  {
   "cell_type": "code",
   "execution_count": null,
   "metadata": {},
   "outputs": [],
   "source": []
  },
  {
   "cell_type": "code",
   "execution_count": null,
   "metadata": {},
   "outputs": [],
   "source": []
  }
 ],
 "metadata": {
  "kernelspec": {
   "display_name": "jsj",
   "language": "python",
   "name": "python3"
  },
  "language_info": {
   "codemirror_mode": {
    "name": "ipython",
    "version": 3
   },
   "file_extension": ".py",
   "mimetype": "text/x-python",
   "name": "python",
   "nbconvert_exporter": "python",
   "pygments_lexer": "ipython3",
   "version": "3.10.16"
  }
 },
 "nbformat": 4,
 "nbformat_minor": 2
}
